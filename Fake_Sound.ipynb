{
  "nbformat": 4,
  "nbformat_minor": 0,
  "metadata": {
    "colab": {
      "name": "Copy of Fake Sound.ipynb",
      "provenance": [],
      "collapsed_sections": [],
      "toc_visible": true
    },
    "kernelspec": {
      "name": "python3",
      "display_name": "Python 3"
    },
    "language_info": {
      "name": "python"
    },
    "accelerator": "GPU"
  },
  "cells": [
    {
      "cell_type": "code",
      "metadata": {
        "colab": {
          "base_uri": "https://localhost:8080/"
        },
        "id": "Ax01g0XQhkiB",
        "outputId": "8716e1ba-199b-42b8-83a3-2b607cece8c7"
      },
      "source": [
        "from google.colab import drive\n",
        "drive.mount('/content/drive')"
      ],
      "execution_count": null,
      "outputs": [
        {
          "output_type": "stream",
          "text": [
            "Mounted at /content/drive\n"
          ],
          "name": "stdout"
        }
      ]
    },
    {
      "cell_type": "code",
      "metadata": {
        "id": "wmSn_gUHLAm_"
      },
      "source": [
        "import librosa\n",
        "from scipy.io import wavfile\n",
        "import matplotlib.pyplot as plt\n",
        "plt.rcParams['agg.path.chunksize'] = 100000\n",
        "import librosa.display\n",
        "import scipy\n",
        "import numpy as np\n",
        "import os\n",
        "import csv\n",
        "import warnings\n",
        "import tensorflow as tf\n",
        "\n",
        "from keras.models import Sequential\n",
        "from keras.layers import *\n",
        "from sklearn.metrics import *\n",
        "warnings.filterwarnings(\"ignore\")"
      ],
      "execution_count": null,
      "outputs": []
    },
    {
      "cell_type": "markdown",
      "metadata": {
        "id": "zRglge9_d9od"
      },
      "source": [
        "# Create Data"
      ]
    },
    {
      "cell_type": "code",
      "metadata": {
        "id": "qsspV7drRVNo",
        "colab": {
          "base_uri": "https://localhost:8080/"
        },
        "outputId": "ad466f0b-2a6f-4641-a27e-f7f808b9e6f8"
      },
      "source": [
        "f = open('/content/drive/MyDrive/Modi Real Audio/data.csv', 'w', newline='')\n",
        "csvwriter = csv.writer(f)\n",
        "csvwriter.writerow([\"audio\",\"target\"])"
      ],
      "execution_count": null,
      "outputs": [
        {
          "output_type": "execute_result",
          "data": {
            "text/plain": [
              "14"
            ]
          },
          "metadata": {
            "tags": []
          },
          "execution_count": 3
        }
      ]
    },
    {
      "cell_type": "code",
      "metadata": {
        "id": "RTozBvjyMTAS"
      },
      "source": [
        "def process(label,filename,target):\n",
        "    label = f\"/content/drive/MyDrive/Modi Real Audio/{label}\"\n",
        "    if os.path.exists(label) == False:\n",
        "        os.mkdir(label)\n",
        " \n",
        "    y, sr = librosa.load(filename)\n",
        "\n",
        "\n",
        "    splitedSize = sr*5\n",
        "    y_all = [ y[ x:x+splitedSize ] for x in range(0, y.shape[0], splitedSize ) ]\n",
        "    y_all = y_all[:-1]\n",
        "\n",
        "    for i in range(len(y_all)):\n",
        "        scipy.io.wavfile.write(f\"{label}/{filename.split('/')[-1][:-4]}_{label.split('/')[-1]}_{i}.wav\", sr,y_all[i])\n",
        "        csvwriter.writerow([f\"{label}/{filename.split('/')[-1][:-4]}_{label.split('/')[-1]}_{i}.wav\",target])"
      ],
      "execution_count": null,
      "outputs": []
    },
    {
      "cell_type": "code",
      "metadata": {
        "id": "GRuMdLzuDKMX"
      },
      "source": [
        "import glob\n",
        "for files in glob.glob(\"/content/drive/MyDrive/Modi Real Audio/Fake_Audio/*\"):\n",
        "    process(\"fake\",files,0)\n",
        "for files in glob.glob(\"/content/drive/MyDrive/Modi Real Audio/Real_Audio/*\"):\n",
        "    process(\"real\",files,1)"
      ],
      "execution_count": null,
      "outputs": []
    },
    {
      "cell_type": "code",
      "metadata": {
        "id": "Gr6FvdMzQzsD"
      },
      "source": [
        "f.close()"
      ],
      "execution_count": null,
      "outputs": []
    },
    {
      "cell_type": "markdown",
      "metadata": {
        "id": "o9PNLjqEeBfc"
      },
      "source": [
        "# Deep Learning"
      ]
    },
    {
      "cell_type": "code",
      "metadata": {
        "id": "8YBdY-7rUdgX"
      },
      "source": [
        "import pandas as pd\n",
        "data = pd.read_csv(\"/content/drive/MyDrive/Modi Real Audio/data.csv\")"
      ],
      "execution_count": null,
      "outputs": []
    },
    {
      "cell_type": "code",
      "metadata": {
        "id": "C5TtwQh4V4rc"
      },
      "source": [
        "audios = data.audio.values\n",
        "y = data.target.values\n",
        "\n",
        "X = []\n",
        "for i in audios:\n",
        "\n",
        "    x,sr = librosa.load(i)\n",
        "    mfccs = librosa.feature.mfcc(y=x, sr=sr, n_mfcc=20)\n",
        "    y_delta = librosa.feature.delta(mfccs)\n",
        "    mfccs = np.vstack((mfccs,y_delta))\n",
        "    X.append(mfccs)\n",
        "\n",
        "X = np.array(X)"
      ],
      "execution_count": null,
      "outputs": []
    },
    {
      "cell_type": "code",
      "metadata": {
        "colab": {
          "base_uri": "https://localhost:8080/"
        },
        "id": "oL8_zC-aAPGB",
        "outputId": "4b0c4316-cd5f-465b-d74c-7cce6dd3ca69"
      },
      "source": [
        "sum(y)"
      ],
      "execution_count": null,
      "outputs": [
        {
          "output_type": "execute_result",
          "data": {
            "text/plain": [
              "782"
            ]
          },
          "metadata": {
            "tags": []
          },
          "execution_count": 9
        }
      ]
    },
    {
      "cell_type": "code",
      "metadata": {
        "id": "LI1QTn4PXXCs",
        "colab": {
          "base_uri": "https://localhost:8080/"
        },
        "outputId": "a273ddd8-5daf-419f-85df-445cf37faf82"
      },
      "source": [
        "X.shape"
      ],
      "execution_count": null,
      "outputs": [
        {
          "output_type": "execute_result",
          "data": {
            "text/plain": [
              "(865, 40, 216)"
            ]
          },
          "metadata": {
            "tags": []
          },
          "execution_count": 11
        }
      ]
    },
    {
      "cell_type": "code",
      "metadata": {
        "id": "9pGfoMc-fj_y"
      },
      "source": [
        "X = X.reshape(X.shape[0],X.shape[1],X.shape[2],1)"
      ],
      "execution_count": null,
      "outputs": []
    },
    {
      "cell_type": "code",
      "metadata": {
        "id": "MoRVoj12XbGq",
        "colab": {
          "base_uri": "https://localhost:8080/"
        },
        "outputId": "6cd13b81-6b71-4a70-e1d7-5a3823883b1d"
      },
      "source": [
        "y.shape"
      ],
      "execution_count": null,
      "outputs": [
        {
          "output_type": "execute_result",
          "data": {
            "text/plain": [
              "(865,)"
            ]
          },
          "metadata": {
            "tags": []
          },
          "execution_count": 13
        }
      ]
    },
    {
      "cell_type": "code",
      "metadata": {
        "id": "weF661S-Jdc_"
      },
      "source": [
        "from sklearn.model_selection import StratifiedShuffleSplit\n",
        "sss = StratifiedShuffleSplit(n_splits=2, test_size=0.15, random_state=0)\n",
        "for train_index, test_index in sss.split(X, y):\n",
        "    X_train, X_test = X[train_index], X[test_index]\n",
        "    y_train, y_test = y[train_index], y[test_index]\n",
        "    break"
      ],
      "execution_count": null,
      "outputs": []
    },
    {
      "cell_type": "code",
      "metadata": {
        "id": "Z-FYq6Y3ktfo"
      },
      "source": [
        "rlr = tf.keras.callbacks.ReduceLROnPlateau(\n",
        "    monitor='val_loss', factor=0.1, patience=3, verbose=1, mode='auto',\n",
        "    min_delta=0.0001, cooldown=0, min_lr=0,)\n",
        "\n",
        "es = tf.keras.callbacks.EarlyStopping(\n",
        "    monitor=\"val_loss\", min_delta=0, patience=5,\n",
        "    verbose=1, mode=\"auto\", baseline=None, restore_best_weights=True,\n",
        ")\n",
        "\n",
        "nan = tf.keras.callbacks.TerminateOnNaN()"
      ],
      "execution_count": null,
      "outputs": []
    },
    {
      "cell_type": "code",
      "metadata": {
        "id": "-i3o9o7RXhAG",
        "colab": {
          "base_uri": "https://localhost:8080/"
        },
        "outputId": "3dc0043a-9ead-4965-e720-16dff0634e07"
      },
      "source": [
        "model = Sequential()\n",
        "model.add(Conv2D(16, 3, activation='tanh', input_shape=(X.shape[1],X.shape[2],X.shape[3])))\n",
        "model.add(Conv2D(32, 3,activation='tanh'))\n",
        "model.add(MaxPool2D(pool_size=(2, 5)))\n",
        "model.add(Conv2D(64, 3,activation='tanh'))\n",
        "model.add(Conv2D(128, 3,activation='tanh'))\n",
        "model.add(MaxPool2D(pool_size=(2, 5)))\n",
        "\n",
        "model.add(Flatten())\n",
        "model.add(Dense(128, activation='tanh'))\n",
        "model.add(Dense(32, activation='tanh'))\n",
        "model.add(Dense(1, activation='sigmoid'))\n",
        "\n",
        "model.compile(loss='binary_crossentropy', optimizer=tf.keras.optimizers.SGD(learning_rate=0.01), metrics=['accuracy'])\n",
        "model.summary()"
      ],
      "execution_count": null,
      "outputs": [
        {
          "output_type": "stream",
          "text": [
            "Model: \"sequential\"\n",
            "_________________________________________________________________\n",
            "Layer (type)                 Output Shape              Param #   \n",
            "=================================================================\n",
            "conv2d (Conv2D)              (None, 38, 214, 16)       160       \n",
            "_________________________________________________________________\n",
            "conv2d_1 (Conv2D)            (None, 36, 212, 32)       4640      \n",
            "_________________________________________________________________\n",
            "max_pooling2d (MaxPooling2D) (None, 18, 42, 32)        0         \n",
            "_________________________________________________________________\n",
            "conv2d_2 (Conv2D)            (None, 16, 40, 64)        18496     \n",
            "_________________________________________________________________\n",
            "conv2d_3 (Conv2D)            (None, 14, 38, 128)       73856     \n",
            "_________________________________________________________________\n",
            "max_pooling2d_1 (MaxPooling2 (None, 7, 7, 128)         0         \n",
            "_________________________________________________________________\n",
            "flatten (Flatten)            (None, 6272)              0         \n",
            "_________________________________________________________________\n",
            "dense (Dense)                (None, 128)               802944    \n",
            "_________________________________________________________________\n",
            "dense_1 (Dense)              (None, 32)                4128      \n",
            "_________________________________________________________________\n",
            "dense_2 (Dense)              (None, 1)                 33        \n",
            "=================================================================\n",
            "Total params: 904,257\n",
            "Trainable params: 904,257\n",
            "Non-trainable params: 0\n",
            "_________________________________________________________________\n"
          ],
          "name": "stdout"
        }
      ]
    },
    {
      "cell_type": "code",
      "metadata": {
        "id": "HGOy4o22atmh",
        "colab": {
          "base_uri": "https://localhost:8080/"
        },
        "outputId": "d81b12be-9398-4641-f29d-39fcfc103783"
      },
      "source": [
        "history = model.fit(X_train, y_train,\n",
        "                    validation_data =(X_test,y_test),\n",
        "                    callbacks = [rlr,es,nan],\n",
        "                    batch_size = 32,\n",
        "                    epochs=50, verbose=1)"
      ],
      "execution_count": null,
      "outputs": [
        {
          "output_type": "stream",
          "text": [
            "Epoch 1/50\n",
            "23/23 [==============================] - 44s 55ms/step - loss: 0.3176 - accuracy: 0.9101 - val_loss: 0.2711 - val_accuracy: 0.9154\n",
            "Epoch 2/50\n",
            "23/23 [==============================] - 0s 12ms/step - loss: 0.2578 - accuracy: 0.9008 - val_loss: 0.1818 - val_accuracy: 0.9538\n",
            "Epoch 3/50\n",
            "23/23 [==============================] - 0s 13ms/step - loss: 0.1609 - accuracy: 0.9342 - val_loss: 0.1382 - val_accuracy: 0.9692\n",
            "Epoch 4/50\n",
            "23/23 [==============================] - 0s 13ms/step - loss: 0.1592 - accuracy: 0.9326 - val_loss: 0.1191 - val_accuracy: 0.9769\n",
            "Epoch 5/50\n",
            "23/23 [==============================] - 0s 12ms/step - loss: 0.1212 - accuracy: 0.9470 - val_loss: 0.1138 - val_accuracy: 0.9692\n",
            "Epoch 6/50\n",
            "23/23 [==============================] - 0s 13ms/step - loss: 0.1312 - accuracy: 0.9358 - val_loss: 0.1114 - val_accuracy: 0.9692\n",
            "Epoch 7/50\n",
            "23/23 [==============================] - 0s 12ms/step - loss: 0.1057 - accuracy: 0.9556 - val_loss: 0.1174 - val_accuracy: 0.9538\n",
            "Epoch 8/50\n",
            "23/23 [==============================] - 0s 12ms/step - loss: 0.0953 - accuracy: 0.9641 - val_loss: 0.1339 - val_accuracy: 0.9462\n",
            "Epoch 9/50\n",
            "23/23 [==============================] - 0s 14ms/step - loss: 0.0901 - accuracy: 0.9685 - val_loss: 0.1249 - val_accuracy: 0.9462\n",
            "\n",
            "Epoch 00009: ReduceLROnPlateau reducing learning rate to 0.0009999999776482583.\n",
            "Epoch 10/50\n",
            "23/23 [==============================] - 0s 13ms/step - loss: 0.0892 - accuracy: 0.9617 - val_loss: 0.1128 - val_accuracy: 0.9538\n",
            "Epoch 11/50\n",
            "23/23 [==============================] - 0s 12ms/step - loss: 0.0896 - accuracy: 0.9673 - val_loss: 0.1109 - val_accuracy: 0.9615\n",
            "Epoch 12/50\n",
            "23/23 [==============================] - 0s 13ms/step - loss: 0.0725 - accuracy: 0.9723 - val_loss: 0.1108 - val_accuracy: 0.9615\n",
            "Epoch 13/50\n",
            "23/23 [==============================] - 0s 12ms/step - loss: 0.0833 - accuracy: 0.9632 - val_loss: 0.1110 - val_accuracy: 0.9615\n",
            "Epoch 14/50\n",
            "23/23 [==============================] - 0s 13ms/step - loss: 0.0728 - accuracy: 0.9663 - val_loss: 0.1110 - val_accuracy: 0.9615\n",
            "\n",
            "Epoch 00014: ReduceLROnPlateau reducing learning rate to 9.999999310821295e-05.\n",
            "Epoch 15/50\n",
            "23/23 [==============================] - 0s 12ms/step - loss: 0.0764 - accuracy: 0.9681 - val_loss: 0.1110 - val_accuracy: 0.9615\n",
            "Epoch 16/50\n",
            "23/23 [==============================] - 0s 13ms/step - loss: 0.0846 - accuracy: 0.9653 - val_loss: 0.1110 - val_accuracy: 0.9615\n",
            "Epoch 17/50\n",
            "23/23 [==============================] - 0s 13ms/step - loss: 0.0925 - accuracy: 0.9595 - val_loss: 0.1110 - val_accuracy: 0.9615\n",
            "\n",
            "Epoch 00017: ReduceLROnPlateau reducing learning rate to 9.999999019782991e-06.\n",
            "Restoring model weights from the end of the best epoch.\n",
            "Epoch 00017: early stopping\n"
          ],
          "name": "stdout"
        }
      ]
    },
    {
      "cell_type": "code",
      "metadata": {
        "id": "lvuVIfPYkK2G",
        "colab": {
          "base_uri": "https://localhost:8080/"
        },
        "outputId": "82ab6835-8ddd-480c-8ec4-c209661da150"
      },
      "source": [
        "max(history.history['val_accuracy'])"
      ],
      "execution_count": null,
      "outputs": [
        {
          "output_type": "execute_result",
          "data": {
            "text/plain": [
              "0.9769230484962463"
            ]
          },
          "metadata": {
            "tags": []
          },
          "execution_count": 18
        }
      ]
    },
    {
      "cell_type": "code",
      "metadata": {
        "id": "17UISO-CkPpB",
        "colab": {
          "base_uri": "https://localhost:8080/"
        },
        "outputId": "a8d77ce6-6b40-46c9-acce-b6b4b62fc1f2"
      },
      "source": [
        "Y_pred = model.predict(X_test)\n",
        "y_pred = np.round(Y_pred)\n",
        "\n",
        "print(confusion_matrix(y_test, y_pred))\n",
        "print(classification_report(y_test, y_pred))"
      ],
      "execution_count": null,
      "outputs": [
        {
          "output_type": "stream",
          "text": [
            "[[  8   4]\n",
            " [  1 117]]\n",
            "              precision    recall  f1-score   support\n",
            "\n",
            "           0       0.89      0.67      0.76        12\n",
            "           1       0.97      0.99      0.98       118\n",
            "\n",
            "    accuracy                           0.96       130\n",
            "   macro avg       0.93      0.83      0.87       130\n",
            "weighted avg       0.96      0.96      0.96       130\n",
            "\n"
          ],
          "name": "stdout"
        }
      ]
    },
    {
      "cell_type": "code",
      "metadata": {
        "id": "mzgLixuEmkCC",
        "colab": {
          "base_uri": "https://localhost:8080/",
          "height": 295
        },
        "outputId": "c3672947-f178-4d9d-f608-a5e98c901b8d"
      },
      "source": [
        "fpr, tpr, thresholds = roc_curve(y_test, Y_pred)\n",
        "roc_auc = roc_auc_score(y_test, Y_pred)\n",
        "plt.plot(fpr, tpr)\n",
        "plt.title(\"ROC Curve\")\n",
        "plt.xlabel(\"False Positive Rate\")\n",
        "plt.ylabel(\"True Positive Rate\")\n",
        "plt.show()"
      ],
      "execution_count": null,
      "outputs": [
        {
          "output_type": "display_data",
          "data": {
            "image/png": "[encoded data removed]",
            "text/plain": [
              "<Figure size 432x288 with 1 Axes>"
            ]
          },
          "metadata": {
            "tags": [],
            "needs_background": "light"
          }
        }
      ]
    }
  ]
}